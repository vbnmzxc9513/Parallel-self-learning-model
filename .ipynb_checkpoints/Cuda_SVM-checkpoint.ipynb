{
 "cells": [
  {
   "cell_type": "code",
   "execution_count": 1,
   "metadata": {},
   "outputs": [],
   "source": [
    "import torch\n",
    "import torch.nn as nn\n",
    "import torch.optim as optim\n",
    "import copy\n",
    "import os\n",
    "import pandas as pd\n",
    "import time\n",
    "from tqdm import tqdm, tqdm_notebook \n",
    "from sklearn.datasets import load_svmlight_file\n",
    "from sklearn.model_selection import train_test_split"
   ]
  },
  {
   "cell_type": "code",
   "execution_count": 2,
   "metadata": {},
   "outputs": [],
   "source": [
    "class SVM_cuda(nn.Module):\n",
    "    #列出需要哪些層\n",
    "    def __init__(self, feature_num, cls_num):\n",
    "        super(SVM_cuda, self).__init__()\n",
    "        self.fc = nn.Linear(feature_num, cls_num)     \n",
    "    #列出forward的路徑，將init列出的層代入\n",
    "    def forward(self, x):\n",
    "        out = self.fc(x) \n",
    "        return out\n",
    "    \n",
    "class HingeLoss(torch.nn.Module):\n",
    "\n",
    "    def __init__(self):\n",
    "        super(HingeLoss, self).__init__()\n",
    "        self.relu = nn.ReLU()\n",
    "\n",
    "    def forward(self, output, target):\n",
    "        all_ones = torch.ones_like(target)\n",
    "        labels = 2 * target - all_ones\n",
    "        losses = all_ones - torch.mul(output, labels)\n",
    "\n",
    "        return torch.norm(self.relu(losses))"
   ]
  },
  {
   "cell_type": "code",
   "execution_count": 3,
   "metadata": {},
   "outputs": [],
   "source": [
    "def SVM_train(training_data, val_data, test_data, config):\n",
    "    device = torch.device('cuda:0' if torch.cuda.is_available() else 'cpu')\n",
    "    # device = 'cpu'\n",
    "    training_data = training_data.to(device)\n",
    "    val_data = val_data.to(device)\n",
    "    test_data = test_data.to(device)\n",
    "    \n",
    "    svm = SVM_cuda(config.feature_num, config.cls_num).to(device)\n",
    "    optimizer = optim.Adam(svm.parameters(), lr=0.000001)\n",
    "    # criterion = torch.nn.CrossEntropyLoss()\n",
    "    criterion = HingeLoss()\n",
    "    \n",
    "    best_acc = 0\n",
    "    best_model = None\n",
    "#     early_stop = 50\n",
    "    \n",
    "    for epoch in tqdm_notebook(range(config.epoch)):\n",
    "        training_data = training_data[torch.randperm(training_data.size()[0])].float()\n",
    "        val_data = val_data[torch.randperm(val_data.size()[0])].float()\n",
    "        test_data = test_data[torch.randperm(test_data.size()[0])].float()\n",
    "        \n",
    "        sum_loss = 0\n",
    "        train_total = 0\n",
    "        train_true = 0\n",
    "        val_total = 0\n",
    "        val_true = 0\n",
    "\n",
    "        ########################                    \n",
    "        # train the model      #\n",
    "        ########################\n",
    "        svm.train()\n",
    "        for i in range(0, len(training_data), config.batch_size):\n",
    "            x = training_data[i:i+config.batch_size, :-1]\n",
    "            y = training_data[i:i+config.batch_size, -1].long()\n",
    "\n",
    "            optimizer.zero_grad()\n",
    "            \n",
    "            output = svm(x)\n",
    "            prob, pred = torch.relu(output).max(1)\n",
    "\n",
    "            train_true += torch.sum(pred == y).item()\n",
    "            # loss = criterion(prob, y)\n",
    "            loss = criterion(output, y)\n",
    "            # loss = torch.mean(torch.clamp(1 - y * prob, min=0))\n",
    "            # loss += config.c / 2.0\n",
    "            \n",
    "            loss.backward()\n",
    "            optimizer.step()\n",
    "            \n",
    "            sum_loss += float(loss)\n",
    "            train_total += len(y)\n",
    "        # print(\"train: epoch: {:4d}, loss: {:.3f}, accuracy: {}\".format(epoch, sum_loss / train_total, train_true/ train_total))\n",
    "\n",
    "        ########################\n",
    "        # validate the model   #\n",
    "        ########################\n",
    "        svm.eval()\n",
    "        for i in range(0, len(val_data), config.batch_size):\n",
    "            x = val_data[i:i+config.batch_size, :-1]\n",
    "            y = val_data[i:i+config.batch_size, -1]\n",
    "\n",
    "            optimizer.zero_grad()\n",
    "            \n",
    "            with torch.no_grad():\n",
    "                prob, pred = torch.relu(svm(x)).max(1)\n",
    "\n",
    "            val_true += torch.sum(pred == y).item()\n",
    "            val_total += len(y)\n",
    "        # print(\"validation: epoch: {:4d}, loss: {:.3f}, accuracy: {}\".format(epoch, sum_loss / val_total, val_true/ val_total))\n",
    "        if best_acc <= val_true/ val_total:\n",
    "            best_acc = val_true/ val_total\n",
    "            best_model = copy.deepcopy(svm)\n",
    "        \n",
    "\n",
    "#     evaluation(best_model, test_data)\n",
    "    return best_model"
   ]
  },
  {
   "cell_type": "code",
   "execution_count": 4,
   "metadata": {},
   "outputs": [],
   "source": [
    "def evaluation(svm, test_data, config):\n",
    "    device = torch.device('cuda:0' if torch.cuda.is_available() else 'cpu')\n",
    "    test_data = test_data.float().to(device)\n",
    "    svm = svm.to(device)\n",
    "    svm.eval()\n",
    "    test_true = [0 for i in range(config.cls_num)]\n",
    "    test_total = [0 for i in range(config.cls_num)]\n",
    "\n",
    "    for i in range(0, len(test_data), config.batch_size):\n",
    "            x = test_data[i:i+config.batch_size, :-1]\n",
    "            y = test_data[i:i+config.batch_size, -1]\n",
    "            \n",
    "            with torch.no_grad():\n",
    "                prob, pred = torch.relu(svm(x)).max(1)\n",
    "            \n",
    "            for i in range(config.cls_num):\n",
    "                test_true[i] += torch.sum((pred == i) * (i == y)).item()\n",
    "                test_total[i] += sum(y == i).item()\n",
    "                #print(y)\n",
    "                #print(i)\n",
    "                #print('------------')\n",
    "                #print(i, (pred == y), sum(y == i))\n",
    "            \n",
    "            #for i in range(7):\n",
    "             #   print( test_true[i], test_total[i])\n",
    "    \n",
    "    print('Apple_pie accuracy: %f %%\\n' % (test_true[0] /test_total[0]*100))\n",
    "    print('Chocolate_cake accuracy: %f %%\\n' % (test_true[1] /test_total[1]*100))\n",
    "    print('Donuts accuracy: %f %%\\n' % (test_true[2] /test_total[2]*100))\n",
    "    print('Hamburger accuracy: %f %%\\n' % (test_true[3] /test_total[3]*100))\n",
    "    print('Hot_dog accuracy: %f %%\\n' % (test_true[4] /test_total[4]*100))\n",
    "    print('Ice_cream accuracy: %f %%\\n' % (test_true[5] /test_total[5]*100))\n",
    "    print('Pizza accuracy: %f %%\\n' % (test_true[6] /test_total[6]*100))\n",
    "    "
   ]
  },
  {
   "cell_type": "code",
   "execution_count": 5,
   "metadata": {},
   "outputs": [],
   "source": [
    "class Config():\n",
    "    def __init__(self):\n",
    "        self.feature_num = 0\n",
    "        self.cls_num = 7\n",
    "        # self.c = 1\n",
    "        self.batch_size = 2500\n",
    "        self.epoch = 5000"
   ]
  },
  {
   "cell_type": "code",
   "execution_count": 6,
   "metadata": {},
   "outputs": [
    {
     "name": "stdout",
     "output_type": "stream",
     "text": [
      "48.70829224586487\n"
     ]
    }
   ],
   "source": [
    "config = Config()\n",
    "\n",
    "train_path = os.path.join('.', 'Train_food7.csv')\n",
    "# train_path = os.path.join('..', 'dataset', 'training.csv')\n",
    "# test_path = os.path.join('..', 'dataset', 'Train_food7.csv')\n",
    "start = time.time()\n",
    "train_pd = pd.read_csv(train_path)\n",
    "end = time.time()\n",
    "print(end - start)\n",
    "# test_pd = pd.read_csv(test_path)\n",
    "\n",
    "config.feature_num = train_pd.shape[1]-1\n",
    "\n",
    "\n",
    "training_data = torch.tensor(train_pd.values)\n",
    "training_data, test_data = train_test_split(training_data.numpy(), random_state=777, train_size=0.7)\n",
    "training_data, test_data = torch.tensor(training_data), torch.tensor(test_data)\n",
    "# val_data = torch.tensor(test_pd.values)\n",
    "# test_data = torch.tensor(test_pd.values)"
   ]
  },
  {
   "cell_type": "code",
   "execution_count": 7,
   "metadata": {},
   "outputs": [
    {
     "name": "stderr",
     "output_type": "stream",
     "text": [
      "/usr/local/anaconda3/envs/pytorch/lib/python3.7/site-packages/ipykernel/__main__.py:17: TqdmDeprecationWarning: This function will be removed in tqdm==5.0.0\n",
      "Please use `tqdm.notebook.tqdm` instead of `tqdm.tqdm_notebook`\n"
     ]
    },
    {
     "data": {
      "application/vnd.jupyter.widget-view+json": {
       "model_id": "0dae73818c7c428fb2c2e2c462fecdbb",
       "version_major": 2,
       "version_minor": 0
      },
      "text/plain": [
       "HBox(children=(FloatProgress(value=0.0, max=5000.0), HTML(value='')))"
      ]
     },
     "metadata": {},
     "output_type": "display_data"
    },
    {
     "name": "stdout",
     "output_type": "stream",
     "text": [
      "\n",
      "Apple_pie accuracy: 63.779528 %\n",
      "\n",
      "Chocolate_cake accuracy: 31.058824 %\n",
      "\n",
      "Donuts accuracy: 40.000000 %\n",
      "\n",
      "Hamburger accuracy: 24.047619 %\n",
      "\n",
      "Hot_dog accuracy: 7.281553 %\n",
      "\n",
      "Ice_cream accuracy: 25.708061 %\n",
      "\n",
      "Pizza accuracy: 20.092379 %\n",
      "\n",
      "49.0735297203064\n"
     ]
    }
   ],
   "source": [
    "start = time.time()\n",
    "svm = SVM_train(training_data, test_data, test_data, config)\n",
    "end = time.time()\n",
    "evaluation(svm, test_data, config)\n",
    "print(end - start)"
   ]
  },
  {
   "cell_type": "code",
   "execution_count": 8,
   "metadata": {
    "scrolled": true
   },
   "outputs": [
    {
     "name": "stdout",
     "output_type": "stream",
     "text": [
      "4284.485014915466\n",
      "class 0 : 0.816272965879262\n",
      "class 1 : 0.7929411764705868\n",
      "class 2 : 0.814634146341464\n",
      "class 3 : 0.7666666666666645\n",
      "class 4 : 0.7766990291262134\n",
      "class 5 : 0.7559912854030507\n",
      "class 6 : 0.7505773672055414\n"
     ]
    }
   ],
   "source": [
    "from sklearn.svm import SVC\n",
    "import numpy as np\n",
    "svm = SVC(kernel='linear', probability=True)\n",
    "start = time.time()\n",
    "svm.fit(training_data[:,:-1], training_data[:,-1])\n",
    "end = time.time()\n",
    "print(end - start)\n",
    "for i in range(7):\n",
    "    print('class', i , ':', sum((np.array(svm.predict(test_data[:,:-1])) == np.array(test_data[:,-1])) * \n",
    "          (np.array(test_data[:,-1] == i)) / sum(np.array(test_data[:,-1] == i))))"
   ]
  },
  {
   "cell_type": "code",
   "execution_count": 9,
   "metadata": {},
   "outputs": [
    {
     "name": "stderr",
     "output_type": "stream",
     "text": [
      "/usr/local/anaconda3/envs/pytorch/lib/python3.7/site-packages/sklearn/svm/base.py:193: FutureWarning: The default value of gamma will change from 'auto' to 'scale' in version 0.22 to account better for unscaled features. Set gamma explicitly to 'auto' or 'scale' to avoid this warning.\n",
      "  \"avoid this warning.\", FutureWarning)\n"
     ]
    },
    {
     "name": "stdout",
     "output_type": "stream",
     "text": [
      "7576.523428201675\n"
     ]
    },
    {
     "data": {
      "text/plain": [
       "0.6929133858267705"
      ]
     },
     "execution_count": 9,
     "metadata": {},
     "output_type": "execute_result"
    }
   ],
   "source": [
    "from sklearn.svm import SVC\n",
    "import numpy as np\n",
    "svm = SVC(kernel='rbf', probability=True)\n",
    "start = time.time()\n",
    "svm.fit(training_data[:,:-1], training_data[:,-1])\n",
    "end = time.time()\n",
    "print(end - start)\n",
    "sum((np.array(svm.predict(test_data[:,:-1])) == np.array(test_data[:,-1])) * \n",
    "    (np.array(test_data[:,-1] == 0)) / sum(np.array(test_data[:,-1] == 0)))"
   ]
  },
  {
   "cell_type": "code",
   "execution_count": null,
   "metadata": {},
   "outputs": [],
   "source": [
    "for i in range(7):\n",
    "    print('class', i , ':', sum((np.array(svm.predict(test_data[:,:-1])) == np.array(test_data[:,-1])) * \n",
    "          (np.array(test_data[:,-1] == i)) / sum(np.array(test_data[:,-1] == i))))"
   ]
  },
  {
   "cell_type": "code",
   "execution_count": null,
   "metadata": {},
   "outputs": [],
   "source": []
  }
 ],
 "metadata": {
  "kernelspec": {
   "display_name": "Environment (conda_pytorch)",
   "language": "python",
   "name": "conda_pytorch"
  },
  "language_info": {
   "codemirror_mode": {
    "name": "ipython",
    "version": 3
   },
   "file_extension": ".py",
   "mimetype": "text/x-python",
   "name": "python",
   "nbconvert_exporter": "python",
   "pygments_lexer": "ipython3",
   "version": "3.7.7"
  }
 },
 "nbformat": 4,
 "nbformat_minor": 4
}
